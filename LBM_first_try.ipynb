{
 "cells": [
  {
   "cell_type": "markdown",
   "metadata": {},
   "source": [
    "# First try D2Q9\n",
    "## Lattice Boltzmann Method for Fluid Simulations\n",
    "### by Sven Brieden"
   ]
  },
  {
   "cell_type": "code",
   "execution_count": 1,
   "metadata": {},
   "outputs": [],
   "source": [
    "import numpy as np\n",
    "import matplotlib.pyplot as plt\n",
    "from ipywidgets import widgets          # for cool gadgets like a slider\n",
    "plt.style.use('dark_background')       # nice diagram style if you use a jupyter-dark-theme\n",
    "plt.rcParams['figure.figsize'] = (15.0, 7.0)\n"
   ]
  },
  {
   "cell_type": "markdown",
   "metadata": {},
   "source": [
    "## simulation parameters \n",
    "- nx and ny: number of cells in each direction\n",
    "- nt: number of timesteps"
   ]
  },
  {
   "cell_type": "code",
   "execution_count": 2,
   "metadata": {},
   "outputs": [
    {
     "name": "stdout",
     "output_type": "stream",
     "text": [
      "Estimated time to calculate: 3.462 minutes\n"
     ]
    }
   ],
   "source": [
    "nx, ny, nt = 300, 200, 100\n",
    "print(\"Estimated time to calculate: %.3f minutes\" %(nx*ny*nt/28886/60))"
   ]
  },
  {
   "cell_type": "markdown",
   "metadata": {},
   "source": [
    "![](nodes.jpg)\n",
    "## declare variables\n",
    "- __f_in__, __f_out__: distribution function $f_i(\\vec x)_{i = 0 . . . 8}$\n",
    "- __$\\rho$__: macroscopic fluid density $\\rho(\\vec x)$\n",
    "- __u__: macroscopic velocity $\\vec u(\\vec x)$\n",
    "- __e_i__: vectors of 9 possible stream directions $\\vec e_i$\n",
    "- __$\\tau$__: viscosity of the fluid\n",
    "- __u_liste__: list of calculated velocities $\\vec u(\\vec x, t)$"
   ]
  },
  {
   "cell_type": "code",
   "execution_count": 3,
   "metadata": {
    "collapsed": true
   },
   "outputs": [],
   "source": [
    "f_in, f_out = np.zeros([9,nx,ny]), np.zeros([9,nx,ny])\n",
    "ρ = np.zeros([nx,ny])\n",
    "u = np.zeros([2,nx,ny])\n",
    "e_i = np.array([[0,0], [1,0], [0,1], [-1,0], [0,-1],  [1,1], [-1,1], [-1,-1], [1,-1]])\n",
    "τ = 1/2\n",
    "u_liste = np.zeros([nt,2, nx, ny])"
   ]
  },
  {
   "cell_type": "markdown",
   "metadata": {},
   "source": [
    "## initial conditions\n",
    "1. Definition a small number of particles in each cell. This gives the code more stability.\n",
    "2. Set a initial impuls to see a movement"
   ]
  },
  {
   "cell_type": "code",
   "execution_count": 4,
   "metadata": {
    "collapsed": true
   },
   "outputs": [],
   "source": [
    "f_in[0,:,:] = 1e-10\n",
    "f_in[1, int(nx/4):int(nx/2), int(ny/4):int(ny/2)] = 1"
   ]
  },
  {
   "cell_type": "markdown",
   "metadata": {},
   "source": [
    "## macroscopic properties \n",
    "fluid density/ pressure:\n",
    "$\\vec \\rho(\\vec x, t) = \\sum_{i = 0}^8 f_i$\n",
    "\n",
    "macroscopic velocity: $\\vec u(\\vec x, t) = \\frac{c}{\\rho}\\sum_{i = 0}^8 f_i \\vec e_i$"
   ]
  },
  {
   "cell_type": "code",
   "execution_count": 5,
   "metadata": {
    "collapsed": true
   },
   "outputs": [],
   "source": [
    "def macroscopic(ρ,u):\n",
    "    for xi in range(nx):\n",
    "        for yi in range(ny):\n",
    "            ρ[xi, yi] = 0\n",
    "            u[0, xi, yi] = 0\n",
    "            u[1, xi, yi] = 0\n",
    "            for i in range(9):\n",
    "                ρ[xi, yi] += f_in[i, xi, yi]\n",
    "                u[0, xi, yi] += f_in[i, xi, yi] * e_i[i,0]\n",
    "                u[1, xi, yi] += f_in[i, xi, yi] * e_i[i,1]\n",
    "    u /= ρ\n",
    "    return ρ, u"
   ]
  },
  {
   "cell_type": "markdown",
   "metadata": {},
   "source": [
    "## equilibrium distribution\n",
    "$f_i^{eq}(\\vec x)=w_i\\cdot \\rho  + \\rho \\cdot s_i(\\vec u(\\vec x))$\n",
    "\n",
    "__w_i__: weights for each streaming direction\n",
    "$w_i = \\left( \\begin{matrix}\n",
    "4/9  &i=0\\\\\n",
    "1/9  &i=1,2,3,4\\\\\n",
    "1/36  &i=5,6,7,8\n",
    "\\end{matrix} \\right)$\n",
    "\n",
    "$ s_i(\\vec u) = w_i\\left( 3 \\cfrac{\\vec e_i  \\vec u}{c} + \\cfrac{9}{2}\\cfrac{(\\vec e_i  \\vec u)^2}{c^2}-\\cfrac{3}{2}\\cfrac{\\vec u  \\vec u}{c^2}\\right)$\n",
    "\n",
    "$c= \\dfrac{\\Delta x}{\\Delta t}$ is the lattice speed."
   ]
  },
  {
   "cell_type": "code",
   "execution_count": 6,
   "metadata": {
    "collapsed": true
   },
   "outputs": [],
   "source": [
    "w_i = np.array([ 4/9, 1/9, 1/9, 1/9, 1/9, 1/36, 1/36, 1/36, 1/36])\n",
    "c = 1\n",
    "def equilibrium(ρ, u):\n",
    "    f_eq = np.zeros([9,nx,ny])\n",
    "    uu = np.sqrt(u[0]**2 + u[1]**2)\n",
    "    for i in range(9):\n",
    "        e_iu = e_i[i,0] * u[0,:,:]\n",
    "        s = w_i[i] * (3 * e_iu / c + 9 * e_iu**2/(2*c**2) - 3*uu/(2*c**2))\n",
    "        f_eq[i,:,:] = w_i[i] * ρ + ρ * s\n",
    "    return f_eq"
   ]
  },
  {
   "cell_type": "markdown",
   "metadata": {},
   "source": [
    "## collide step\n",
    "key step in LBM is the collision processe:\n",
    "$$f^{out}_i(\\vec x) - f^{in}_i(\\vec x) = - \\dfrac{f^{in}_i(\\vec x)-f_i^{eq}(\\vec x)}{\\tau}$$\n",
    "\n",
    "This results in the following:\n",
    "$$f^{out}_i(\\vec x) = - \\left(f^{in}_i(\\vec x,\\, t)-f_i^{eq}(\\vec x,\\, t)\\right)\\frac{1}{\\tau} +  f^{in}_i(\\vec x,\\, t)$$\n",
    "$$f^{out}_i(\\vec x) = \\left(f_i^{eq}(\\vec x,\\, t) + f^{in}_i(\\vec x,\\, t)\\right)\\frac{1}{\\tau} +  f^{in}_i(\\vec x,\\, t)$$"
   ]
  },
  {
   "cell_type": "code",
   "execution_count": 7,
   "metadata": {
    "collapsed": true
   },
   "outputs": [],
   "source": [
    "def collide_step(ρ,u,f_in):\n",
    "    f_out =  (f_in + equilibrium(ρ, u))/τ + f_in\n",
    "    return f_out"
   ]
  },
  {
   "cell_type": "markdown",
   "metadata": {},
   "source": [
    "## stream step\n",
    " streaming with harmonic boundary conditions\n",
    " $$f^{in}_i(\\vec x + \\vec e_i c  \\Delta t,\\, t + \\Delta t) = f^{out}_i(\\vec x, \\, t)$$\n"
   ]
  },
  {
   "cell_type": "code",
   "execution_count": 8,
   "metadata": {},
   "outputs": [],
   "source": [
    "def stream_step(f_in,f_out):\n",
    "    for xi in range(nx):\n",
    "        for yi in range(ny):\n",
    "            for i in range(9):\n",
    "                x_next = xi + e_i[i,0]\n",
    "                if x_next < 0: x_next = nx-1\n",
    "                if x_next > nx-1: x_next = 0\n",
    "                y_next = yi + e_i[i,1]\n",
    "                if y_next < 0: y_next = ny-1\n",
    "                if y_next > ny-1:y_next = 0\n",
    "                f_in[i, x_next, y_next] = f_out[i, xi, yi]   \n",
    "    return f_in"
   ]
  },
  {
   "cell_type": "markdown",
   "metadata": {},
   "source": [
    "## main loop"
   ]
  },
  {
   "cell_type": "code",
   "execution_count": 9,
   "metadata": {},
   "outputs": [],
   "source": [
    "for step in range(nt):\n",
    "    ρ,u = macroscopic(ρ,u)\n",
    "    f_out = collide_step(ρ,u,f_in)\n",
    "    f_in = stream_step(f_in,f_out)\n",
    "    u_liste[step] = u"
   ]
  },
  {
   "cell_type": "code",
   "execution_count": 10,
   "metadata": {},
   "outputs": [
    {
     "data": {
      "application/vnd.jupyter.widget-view+json": {
       "model_id": "5f5b784e9c624776a400f06a0718cc41"
      }
     },
     "metadata": {},
     "output_type": "display_data"
    },
    {
     "data": {
      "text/plain": [
       "<function __main__.infosplot>"
      ]
     },
     "execution_count": 10,
     "metadata": {},
     "output_type": "execute_result"
    }
   ],
   "source": [
    "def infosplot(t):\n",
    "    u = u_liste[t]\n",
    "    v = np.sqrt(u[0]**2+u[1]**2)\n",
    "    \n",
    "    ax1 = plt.subplot2grid((1, 3), (0, 0), colspan=2)\n",
    "    z1_plot = ax1.imshow(v.transpose(), vmin=0, vmax=3)\n",
    "    ax1.set_title(\"velocity in the simulated box\")\n",
    "    ax1.set_xlabel(\"x\")\n",
    "    ax1.set_ylabel(\"y\")\n",
    "    plt.colorbar(z1_plot,ax=ax1)\n",
    "    \n",
    "    ax2 = plt.subplot2grid((1, 3), (0, 2))\n",
    "    vliste = v.reshape(1, v.shape[0]*v.shape[1])\n",
    "    ax2.hist(vliste[0,vliste[0]>0],100,(0,20))\n",
    "    ax2.get_yaxis().set_visible(False)\n",
    "    ax2.set_title(\"velocity histogram\")\n",
    "    ax2.set_xlabel(\"velocity\")\n",
    "    plt.tight_layout()\n",
    "    plt.show()\n",
    "    \n",
    "widgets.interact(infosplot, t=(0,nt-1))"
   ]
  }
 ],
 "metadata": {
  "kernelspec": {
   "display_name": "Python 3",
   "language": "python",
   "name": "python3"
  },
  "language_info": {
   "codemirror_mode": {
    "name": "ipython",
    "version": 3
   },
   "file_extension": ".py",
   "mimetype": "text/x-python",
   "name": "python",
   "nbconvert_exporter": "python",
   "pygments_lexer": "ipython3",
   "version": "3.6.4"
  }
 },
 "nbformat": 4,
 "nbformat_minor": 2
}
